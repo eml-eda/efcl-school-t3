{
 "cells": [
  {
   "cell_type": "markdown",
   "metadata": {},
   "source": [
    "# Hands-on #2: Personalized Dataset Acquisition, Visualization"
   ]
  },
  {
   "cell_type": "markdown",
   "metadata": {},
   "source": [
    "In this session, you will:\n",
    "1. Set up BioGAP for EMG measurements on your right arm.\n",
    "2. Acquire two sessions of data with eight gestures and a rest class.\n",
    "3. Convert the acquired data to Apache Parquet. You will need this in hands-on 3."
   ]
  },
  {
   "cell_type": "markdown",
   "metadata": {},
   "source": [
    "# Part 1: BioGAP measurement setup"
   ]
  },
  {
   "cell_type": "markdown",
   "metadata": {},
   "source": [
    "In this part you will set up the BioGAP for EMG measurements on the forearm in teams of two people.\n",
    "\n",
    "<div class=\"alert alert-block alert-warning\">\n",
    "<b>Task:</b> Prepare the measurement setup by following the steps below. Also note the figure showing an image for each step of the setup.\n",
    "</div>\n",
    "\n",
    "0. Skin preparation: Clean the areas that will be covered with electrodes with a tissue and some water. This will help to ensure a good electrode skin contact.\n",
    "\n",
    "1. Untangle all the electrode cables. The cables are labeled: there is a reference, a bias and eight channel electrodes. (Fig. 1 (A))\n",
    "\n",
    "2. Attach the BioGAP with the velcro tape on your right arm, slightly below the elbow. (Fig. 1 (B))\n",
    "\n",
    "3. Attach the reference and bias electrodes on the elbow. The reference electrode goes directly on the bone, the bias can be placed next to it. (Fig. 1 (C))\n",
    "\n",
    "4. The eight channel electrodes should be placed equidistant around the arm. To have the same distance between all the channel electrodes, start by attaching CH1 on the anterior side and CH5 on the opposite (posterior) side. Then, place CH3 and CH7, again, opposite of each other. Finally, attach CH2, CH4, CH6, CH8 in the respective positions between the other electrodes. (Fig. 1 (D))\n",
    "\n",
    "\n",
    "<br>\n",
    "<center><img src=\"./assets/emg_setup.png\" alt=\"setup\" class=\"bg-primary\" width=\"80%\"></center>\n",
    "<center> Fig.1: Data collection setup. </center>\n",
    "<br>\n"
   ]
  },
  {
   "cell_type": "markdown",
   "metadata": {},
   "source": [
    "<div class=\"alert alert-block alert-warning\">\n",
    "<b>Task:</b> Now that all the electrodes are placed correctly, we are ready to take a first measurement. Test the hardware setup by completeing the following steps:\n",
    "</div>\n",
    "\n",
    "\n",
    "1. Connect the USB dongle to the extension cable, plug it to the PC's USB port and put the dongle on the table.\n",
    "\n",
    "2. Slide the power switch of the BioGAP device in the position towards the outside of the box. \n",
    "\n",
    "3. Shortly connect and disconnect the micro USB cable on BioGAP. This will activate the device.\n",
    "If the connection is extablished, the USB dongle will have the green led on all the time. When is not connected, the green led blinks.\n",
    "\n",
    "4. Access the GUI files (`/home/$USER/efcl-school-t3-ho/biowolf_gui`) and do:\n",
    "`source run_app.sh`\n",
    "Wait until the main screen shows.\n",
    "\n",
    "5. Configure the GUI (only necesary the fist time):\n",
    "    * File > Switch states > Yes\n",
    "    * EEG settings:\n",
    "        - ADS Mode: Normal.\n",
    "        - Sample Rate: 500SPS.\n",
    "        - Channels: 8.\n",
    "        - Gain: 12.\n",
    "\n",
    "    * Plot Settings:\n",
    "        - Y Scale: 50uV.\n",
    "        - X Scale: 10s.\n",
    "        - PLI Filter: Off.\n",
    "        - Filter: 2-20Hz.\n",
    "\n",
    "    * Click on the path next to the `Data save path` and set the save datapath to `/usr/itetnas04/data-scratch-01/$USER/data/efcl-school-t3/personal_data`\n",
    "\n",
    "    * Enable \"Stream UDP\" by clicking on it. When enable, the text will turn red.\n",
    "\n",
    "6. Start the acquistion by pressing `Start`. The central part of the screen should start being filled with datapoins from the device. Tap on the device the electrodes and check that the signals change.\n",
    "\n",
    "7. Now you can perform a few different gestures and check how the EMG signals change.\n",
    "\n",
    "8. Once you click on \"Stop\" to finish the test measurement, the GUI will promt you to save the measured data which you can cofirm with \"OK\".\n",
    "\n",
    "9. Double check that a new binary file has been saved in the folder specified above. This file contains the raw EMG data and measurement parameters."
   ]
  },
  {
   "cell_type": "markdown",
   "metadata": {},
   "source": [
    "# Part 2: Data acquisition"
   ]
  },
  {
   "cell_type": "markdown",
   "metadata": {},
   "source": [
    "In the following, you will acquire two sessions of data with eight gestures and a rest class as shown here:\n",
    "\n",
    "\n",
    "<br>\n",
    "<center><img src=\"./assets/classes.png\" align=\"center\" alt=\"gesture classes\" class=\"bg-primary\" width=\"80%\"></center>\n",
    "<center> Fig.2: The eight gestures (in order of class ID, left to right, top to bottom). </center>\n",
    "<br>\n",
    "\n",
    "\n",
    "An interactive GUI will guide you to through the acquisition process. By following the instructions, you will create your own dataset that includes:\n",
    "* 2 collection sessions of EMG data.\n",
    "* In each session, you will be asked to perform 8 different gestures, each repeated 5 times.\n",
    "* Every repetition lasted 8s, separated by 5s of rest, with the arm and hand in a neutral position.\n",
    "* Data are sampled at 500 Hz, from all the 8 channels.\n",
    "\n",
    "\n",
    "<div class=\"alert alert-block alert-warning\">\n",
    "<b>Task:</b> Start the GUI and complete the following steps to acquire your first EMG data session.\n",
    "</div>\n",
    "\n",
    "1. Start the acquisition by clicking \"Start\".\n",
    "\n",
    "1. Activate the conda environment, and go to `/scratch/$USER/efcl-school-t3/experimental_protocol`.\n",
    "\n",
    "2. Run `python main.py`and follow the instructions displayed.\n",
    "\n",
    "3. At the end of the session, click on \"Stop TCP/IP\", stop the measurement in the GUI with \"Stop\", and confirm with \"OK\" to save the session data.\n",
    "\n",
    "<div class=\"alert alert-block alert-warning\">\n",
    "<b>Task:</b> Repeat the above steps to collect a second session.\n",
    "</div>\n",
    "\n"
   ]
  },
  {
   "cell_type": "markdown",
   "metadata": {},
   "source": [
    "# Part 3: Data conversion"
   ]
  },
  {
   "cell_type": "markdown",
   "metadata": {},
   "source": [
    "Once you have collected your two sessions, the GUI will have saved two binary files that contain the raw EMG data, trigger information that provide the ground truth labels for the different gestures, and BioGAP measurement parameters. The files should have an approximate size of 10 MB, you can also recognize them with the time stamp.\n",
    "\n",
    "<div class=\"alert alert-block alert-warning\">\n",
    "<b>Task:</b> Run the `./extra_scripts/read_data.py` script to convert the two sessions to Apache Parquet, an open-source column data format. You should generate two files, called `session_1.parquet` and `session_2.parquet`, saved in `personal_data`.\n",
    "</div>\n",
    "\n",
    "```Python\n",
    "python3 ./extra_scripts/read_data.py --input <path/to/data>.bin --rescaling_path --output /usr/itetnas04/data-scratch-01/$USER/data/efcl-school-t3/personal_data/session_<N>.parquet\n",
    "```"
   ]
  },
  {
   "cell_type": "code",
   "execution_count": null,
   "metadata": {},
   "outputs": [],
   "source": []
  }
 ],
 "metadata": {
  "kernelspec": {
   "display_name": "Python 3 (ipykernel)",
   "language": "python",
   "name": "python3"
  },
  "language_info": {
   "codemirror_mode": {
    "name": "ipython",
    "version": 3
   },
   "file_extension": ".py",
   "mimetype": "text/x-python",
   "name": "python",
   "nbconvert_exporter": "python",
   "pygments_lexer": "ipython3",
   "version": "3.9.16"
  }
 },
 "nbformat": 4,
 "nbformat_minor": 4
}
