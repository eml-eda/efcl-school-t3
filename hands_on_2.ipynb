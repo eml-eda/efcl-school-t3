{
 "cells": [
  {
   "cell_type": "markdown",
   "metadata": {},
   "source": [
    "# Hands-on #2: Personalized Dataset Acquisition, Visualization"
   ]
  },
  {
   "cell_type": "markdown",
   "metadata": {},
   "source": [
    "In this session, you will:\n",
    "1. Set up BioGAP for EMG measurements on your right arm.\n",
    "2. Acquire two sessions of data with eight gestures and a rest class.\n",
    "3. Convert the acquired data to Apache Parquet. You will need this in hands-on 3."
   ]
  },
  {
   "cell_type": "markdown",
   "metadata": {},
   "source": [
    "# Part 1: BioGAP measurement setup"
   ]
  },
  {
   "cell_type": "markdown",
   "metadata": {},
   "source": [
    "In this part you will set up the BioGAP for EMG measurements on the forearm in teams of two people.\n",
    "\n",
    "<div class=\"alert alert-block alert-warning\">\n",
    "<b>Task:</b> Prepare the measurement setup by following the steps below. Also note the figure showing an image for each step of the setup.\n",
    "</div>\n",
    "\n",
    "1. Let's start by untangling all the electrode cables. All the cables are labeled and there should be a reference, a bias and eight channel electrodes.\n",
    "\n",
    "2. Attach the BioGAP with the velcro tape on your right arm, slightly below the elbow.\n",
    "\n",
    "3. Attach the reference and bias electrodes on the elbow. The reference electrode goes directly on the bone, the bias can be placed next to it.\n",
    "\n",
    "4. The eight channel electrodes should be placed equidistant around the arm. \n",
    "\n",
    "5. To have the same distance between all the channel electrodes, start by attaching CH1 on the anterior side and CH5 on the opposite (posterior) side. Then, place CH3 and CH7, again, opposite of each other. Finally, attach CH2, CH4, CH6, CH8 in the respective positions between the other electrodes.\n",
    "\n",
    "\n",
    "<br>\n",
    "<center><img src=\"./assets/setup.png\" alt=\"setup\" class=\"bg-primary\" width=\"200px\"></center>\n",
    "<center> Fig.1: Data collection setup. </center>\n",
    "<br>\n"
   ]
  },
  {
   "cell_type": "markdown",
   "metadata": {},
   "source": [
    "<div class=\"alert alert-block alert-warning\">\n",
    "<b>Task:</b> Now that all the electrodes are placed correctly, we are ready to take a first measurement. Test the hardware setup by completeing the following steps:\n",
    "</div>\n",
    "\n",
    "\n",
    "1. Connect the USB dongle to the extension cable, plug it to the PC's USB port and put the dongle on the table.\n",
    "\n",
    "2. Slide the power switch of the BioGAP device in the position towards the outside of the box. \n",
    "\n",
    "3. Shortly connect and disconnect the micro USB cable on BioGAP. This will activate the device.\n",
    "If the connection is extablished, the USB dongle will have the green led on all the time. When is not connected, the green led blinks.\n",
    "\n",
    "4. Access the GUI files (`/home/$USER/efcl-school-t3-ho/biowolf_gui`) and do:\n",
    "`source run_app.sh`\n",
    "Wait until the main screen shows.\n",
    "\n",
    "6. Configure the GUI (only necesary the fist time):\n",
    "    * File > Switch states > Yes\n",
    "    * EEG settings:\n",
    "        - ADS Mode: Normal.\n",
    "        - Sample Rate: 500SPS.\n",
    "        - Channels: 8.\n",
    "        - Gain: 12.\n",
    "\n",
    "    * Plot Settings:\n",
    "        - Y Scale: 50uV.\n",
    "        - X Scale: 10s.\n",
    "        - PLI Filter: Off.\n",
    "        - Filter: 2-20Hz.\n",
    "\n",
    "    * Click on the path next to the `Data save path` and set the save datapath to `/home/$USER/efcl-school-t3-ho/personal_data`\n",
    "\n",
    "    * Enable \"Stream UDP\" by clicking on it. When enable, the text will turn red.\n",
    "\n",
    "7. Start the acquistion by pressing `Start`. The central part of the screen should start being filled with datapoins from the device. Tap on the device the electrodes and check that the signals change.\n",
    "\n",
    "8. Now you can perform a few different gestures and check how the EMG signals change."
   ]
  },
  {
   "cell_type": "markdown",
   "metadata": {},
   "source": [
    "# Part 2: Data acquisition"
   ]
  },
  {
   "cell_type": "markdown",
   "metadata": {},
   "source": [
    "In the following, you will acquire two sessions of data with eight gestures and a rest class as shown here:\n",
    "\n",
    "\n",
    "<br>\n",
    "<center><img src=\"./assets/classes.png\" align=\"center\" alt=\"gesture classes\" class=\"bg-primary\" width=\"80%\"></center>\n",
    "<center> Fig.2: The eight gestures (in order of class ID, left to right, top to bottom). </center>\n",
    "<br>\n",
    "\n",
    "\n",
    "An interactive GUI will guide you to through the acquisition process. By following the instructions, you will create your own dataset that includes:\n",
    "* It contains 3 collection sessions for each subject, acquired at different times during the day.\n",
    "* In each session, subjects were asked to perform 8 different gestures, each repeated 5 times.\n",
    "* Every repetition lasted 8s, separated by 5s of rest, with the arm and hand in a neutral position.\n",
    "* Data are sampled at 500 Hz, from all the 8 channels.\n",
    "\n",
    "\n",
    "<div class=\"alert alert-block alert-warning\">\n",
    "<b>Task:</b> Start the GUI and follow the instructions that guide you through the acquisition process. Stop the measurement in the GUI at the end of each session. Do this twice, to create a dataset consisting of two sessions.\n",
    "</div>\n"
   ]
  },
  {
   "cell_type": "markdown",
   "metadata": {},
   "source": [
    "# Part 3: Data conversion"
   ]
  },
  {
   "cell_type": "markdown",
   "metadata": {},
   "source": [
    "Once you have collected your two sessions, the GUI will have two binary files that contain the raw EMG data, trigger information that provide the ground truth labels for the different gestures, and BioGAP measurement parameters.\n",
    "\n",
    "<div class=\"alert alert-block alert-warning\">\n",
    "<b>Task:</b> Run the `./extra_scripts/read_data.py` script to convert the two sessions to Apache Parquet, an open-source column data format. You should generate two files, called `session_1.parquet` and `session_2.parquet`, saved in `personal_data`.\n",
    "</div>\n"
   ]
  }
 ],
 "metadata": {
  "kernelspec": {
   "display_name": "Python 3 (ipykernel)",
   "language": "python",
   "name": "python3"
  },
  "language_info": {
   "codemirror_mode": {
    "name": "ipython",
    "version": 3
   },
   "file_extension": ".py",
   "mimetype": "text/x-python",
   "name": "python",
   "nbconvert_exporter": "python",
   "pygments_lexer": "ipython3",
   "version": "3.11.9"
  }
 },
 "nbformat": 4,
 "nbformat_minor": 4
}
